{
  "nbformat": 4,
  "nbformat_minor": 0,
  "metadata": {
    "colab": {
      "name": "AmenitiesCleaning.ipynb",
      "provenance": [],
      "authorship_tag": "ABX9TyPEf5EKa8AKapiXlA5bePGe",
      "include_colab_link": true
    },
    "kernelspec": {
      "name": "python3",
      "display_name": "Python 3"
    },
    "language_info": {
      "name": "python"
    }
  },
  "cells": [
    {
      "cell_type": "markdown",
      "metadata": {
        "id": "view-in-github",
        "colab_type": "text"
      },
      "source": [
        "<a href=\"https://colab.research.google.com/github/jzj5528/ST-Louis-Vacancy-Project-/blob/main/AmenitiesCleaning.ipynb\" target=\"_parent\"><img src=\"https://colab.research.google.com/assets/colab-badge.svg\" alt=\"Open In Colab\"/></a>"
      ]
    },
    {
      "cell_type": "code",
      "execution_count": 65,
      "metadata": {
        "id": "mC6za3S0cypa"
      },
      "outputs": [],
      "source": [
        "import numpy as np \n",
        "import pandas as pd \n",
        "import folium\n",
        "import matplotlib.pyplot as plt\n",
        "import seaborn as sns\n",
        "# magic word for producing visualizations in notebook\n",
        "%matplotlib inline"
      ]
    },
    {
      "cell_type": "code",
      "source": [
        "from google.colab import drive\n",
        "drive.mount('/content/gdrive')"
      ],
      "metadata": {
        "id": "KfR_wk3Xc4gt",
        "colab": {
          "base_uri": "https://localhost:8080/"
        },
        "outputId": "b91d9eb0-8b1d-4b03-934c-91bcc00b110a"
      },
      "execution_count": 66,
      "outputs": [
        {
          "output_type": "stream",
          "name": "stdout",
          "text": [
            "Drive already mounted at /content/gdrive; to attempt to forcibly remount, call drive.mount(\"/content/gdrive\", force_remount=True).\n"
          ]
        }
      ]
    },
    {
      "cell_type": "code",
      "source": [
        "df = pd.read_csv('/content/gdrive/My Drive/BoozAllenHamilton/Amenities.csv')"
      ],
      "metadata": {
        "id": "iSHjUHl0eRV1"
      },
      "execution_count": 67,
      "outputs": []
    },
    {
      "cell_type": "code",
      "source": [
        "df.dtypes"
      ],
      "metadata": {
        "colab": {
          "base_uri": "https://localhost:8080/"
        },
        "id": "9bNnSCnDeXfm",
        "outputId": "6fdb9fff-7525-4dce-f168-5193a2eb8222"
      },
      "execution_count": 68,
      "outputs": [
        {
          "output_type": "execute_result",
          "data": {
            "text/plain": [
              "objectid       int64\n",
              "Amenity       object\n",
              "latitude     float64\n",
              "longitude    float64\n",
              "dtype: object"
            ]
          },
          "metadata": {},
          "execution_count": 68
        }
      ]
    },
    {
      "cell_type": "code",
      "source": [
        "df"
      ],
      "metadata": {
        "colab": {
          "base_uri": "https://localhost:8080/",
          "height": 424
        },
        "id": "r77txHT2kEcs",
        "outputId": "0cbf74a6-a65e-4f0d-8ce5-376f05079b02"
      },
      "execution_count": 69,
      "outputs": [
        {
          "output_type": "execute_result",
          "data": {
            "text/plain": [
              "      objectid         Amenity   latitude  longitude\n",
              "0            1            cafe -90.307708  38.637362\n",
              "1            2            dojo -90.307816  38.637375\n",
              "2            3      restaurant -90.307897  38.637619\n",
              "3            4       ice_cream -90.307877  38.637749\n",
              "4            5             bar -90.307715  38.638370\n",
              "...        ...             ...        ...        ...\n",
              "1658      1659      restaurant -90.231597  38.639264\n",
              "1659      1660         toilets -90.279391  38.639202\n",
              "1660      1661         toilets -90.279306  38.639259\n",
              "1661      1662  drinking_water -90.279454  38.639240\n",
              "1662      1663  drinking_water -90.279349  38.639316\n",
              "\n",
              "[1663 rows x 4 columns]"
            ],
            "text/html": [
              "\n",
              "  <div id=\"df-946cedbc-2d33-4e98-83bc-532f43d76378\">\n",
              "    <div class=\"colab-df-container\">\n",
              "      <div>\n",
              "<style scoped>\n",
              "    .dataframe tbody tr th:only-of-type {\n",
              "        vertical-align: middle;\n",
              "    }\n",
              "\n",
              "    .dataframe tbody tr th {\n",
              "        vertical-align: top;\n",
              "    }\n",
              "\n",
              "    .dataframe thead th {\n",
              "        text-align: right;\n",
              "    }\n",
              "</style>\n",
              "<table border=\"1\" class=\"dataframe\">\n",
              "  <thead>\n",
              "    <tr style=\"text-align: right;\">\n",
              "      <th></th>\n",
              "      <th>objectid</th>\n",
              "      <th>Amenity</th>\n",
              "      <th>latitude</th>\n",
              "      <th>longitude</th>\n",
              "    </tr>\n",
              "  </thead>\n",
              "  <tbody>\n",
              "    <tr>\n",
              "      <th>0</th>\n",
              "      <td>1</td>\n",
              "      <td>cafe</td>\n",
              "      <td>-90.307708</td>\n",
              "      <td>38.637362</td>\n",
              "    </tr>\n",
              "    <tr>\n",
              "      <th>1</th>\n",
              "      <td>2</td>\n",
              "      <td>dojo</td>\n",
              "      <td>-90.307816</td>\n",
              "      <td>38.637375</td>\n",
              "    </tr>\n",
              "    <tr>\n",
              "      <th>2</th>\n",
              "      <td>3</td>\n",
              "      <td>restaurant</td>\n",
              "      <td>-90.307897</td>\n",
              "      <td>38.637619</td>\n",
              "    </tr>\n",
              "    <tr>\n",
              "      <th>3</th>\n",
              "      <td>4</td>\n",
              "      <td>ice_cream</td>\n",
              "      <td>-90.307877</td>\n",
              "      <td>38.637749</td>\n",
              "    </tr>\n",
              "    <tr>\n",
              "      <th>4</th>\n",
              "      <td>5</td>\n",
              "      <td>bar</td>\n",
              "      <td>-90.307715</td>\n",
              "      <td>38.638370</td>\n",
              "    </tr>\n",
              "    <tr>\n",
              "      <th>...</th>\n",
              "      <td>...</td>\n",
              "      <td>...</td>\n",
              "      <td>...</td>\n",
              "      <td>...</td>\n",
              "    </tr>\n",
              "    <tr>\n",
              "      <th>1658</th>\n",
              "      <td>1659</td>\n",
              "      <td>restaurant</td>\n",
              "      <td>-90.231597</td>\n",
              "      <td>38.639264</td>\n",
              "    </tr>\n",
              "    <tr>\n",
              "      <th>1659</th>\n",
              "      <td>1660</td>\n",
              "      <td>toilets</td>\n",
              "      <td>-90.279391</td>\n",
              "      <td>38.639202</td>\n",
              "    </tr>\n",
              "    <tr>\n",
              "      <th>1660</th>\n",
              "      <td>1661</td>\n",
              "      <td>toilets</td>\n",
              "      <td>-90.279306</td>\n",
              "      <td>38.639259</td>\n",
              "    </tr>\n",
              "    <tr>\n",
              "      <th>1661</th>\n",
              "      <td>1662</td>\n",
              "      <td>drinking_water</td>\n",
              "      <td>-90.279454</td>\n",
              "      <td>38.639240</td>\n",
              "    </tr>\n",
              "    <tr>\n",
              "      <th>1662</th>\n",
              "      <td>1663</td>\n",
              "      <td>drinking_water</td>\n",
              "      <td>-90.279349</td>\n",
              "      <td>38.639316</td>\n",
              "    </tr>\n",
              "  </tbody>\n",
              "</table>\n",
              "<p>1663 rows × 4 columns</p>\n",
              "</div>\n",
              "      <button class=\"colab-df-convert\" onclick=\"convertToInteractive('df-946cedbc-2d33-4e98-83bc-532f43d76378')\"\n",
              "              title=\"Convert this dataframe to an interactive table.\"\n",
              "              style=\"display:none;\">\n",
              "        \n",
              "  <svg xmlns=\"http://www.w3.org/2000/svg\" height=\"24px\"viewBox=\"0 0 24 24\"\n",
              "       width=\"24px\">\n",
              "    <path d=\"M0 0h24v24H0V0z\" fill=\"none\"/>\n",
              "    <path d=\"M18.56 5.44l.94 2.06.94-2.06 2.06-.94-2.06-.94-.94-2.06-.94 2.06-2.06.94zm-11 1L8.5 8.5l.94-2.06 2.06-.94-2.06-.94L8.5 2.5l-.94 2.06-2.06.94zm10 10l.94 2.06.94-2.06 2.06-.94-2.06-.94-.94-2.06-.94 2.06-2.06.94z\"/><path d=\"M17.41 7.96l-1.37-1.37c-.4-.4-.92-.59-1.43-.59-.52 0-1.04.2-1.43.59L10.3 9.45l-7.72 7.72c-.78.78-.78 2.05 0 2.83L4 21.41c.39.39.9.59 1.41.59.51 0 1.02-.2 1.41-.59l7.78-7.78 2.81-2.81c.8-.78.8-2.07 0-2.86zM5.41 20L4 18.59l7.72-7.72 1.47 1.35L5.41 20z\"/>\n",
              "  </svg>\n",
              "      </button>\n",
              "      \n",
              "  <style>\n",
              "    .colab-df-container {\n",
              "      display:flex;\n",
              "      flex-wrap:wrap;\n",
              "      gap: 12px;\n",
              "    }\n",
              "\n",
              "    .colab-df-convert {\n",
              "      background-color: #E8F0FE;\n",
              "      border: none;\n",
              "      border-radius: 50%;\n",
              "      cursor: pointer;\n",
              "      display: none;\n",
              "      fill: #1967D2;\n",
              "      height: 32px;\n",
              "      padding: 0 0 0 0;\n",
              "      width: 32px;\n",
              "    }\n",
              "\n",
              "    .colab-df-convert:hover {\n",
              "      background-color: #E2EBFA;\n",
              "      box-shadow: 0px 1px 2px rgba(60, 64, 67, 0.3), 0px 1px 3px 1px rgba(60, 64, 67, 0.15);\n",
              "      fill: #174EA6;\n",
              "    }\n",
              "\n",
              "    [theme=dark] .colab-df-convert {\n",
              "      background-color: #3B4455;\n",
              "      fill: #D2E3FC;\n",
              "    }\n",
              "\n",
              "    [theme=dark] .colab-df-convert:hover {\n",
              "      background-color: #434B5C;\n",
              "      box-shadow: 0px 1px 3px 1px rgba(0, 0, 0, 0.15);\n",
              "      filter: drop-shadow(0px 1px 2px rgba(0, 0, 0, 0.3));\n",
              "      fill: #FFFFFF;\n",
              "    }\n",
              "  </style>\n",
              "\n",
              "      <script>\n",
              "        const buttonEl =\n",
              "          document.querySelector('#df-946cedbc-2d33-4e98-83bc-532f43d76378 button.colab-df-convert');\n",
              "        buttonEl.style.display =\n",
              "          google.colab.kernel.accessAllowed ? 'block' : 'none';\n",
              "\n",
              "        async function convertToInteractive(key) {\n",
              "          const element = document.querySelector('#df-946cedbc-2d33-4e98-83bc-532f43d76378');\n",
              "          const dataTable =\n",
              "            await google.colab.kernel.invokeFunction('convertToInteractive',\n",
              "                                                     [key], {});\n",
              "          if (!dataTable) return;\n",
              "\n",
              "          const docLinkHtml = 'Like what you see? Visit the ' +\n",
              "            '<a target=\"_blank\" href=https://colab.research.google.com/notebooks/data_table.ipynb>data table notebook</a>'\n",
              "            + ' to learn more about interactive tables.';\n",
              "          element.innerHTML = '';\n",
              "          dataTable['output_type'] = 'display_data';\n",
              "          await google.colab.output.renderOutput(dataTable, element);\n",
              "          const docLink = document.createElement('div');\n",
              "          docLink.innerHTML = docLinkHtml;\n",
              "          element.appendChild(docLink);\n",
              "        }\n",
              "      </script>\n",
              "    </div>\n",
              "  </div>\n",
              "  "
            ]
          },
          "metadata": {},
          "execution_count": 69
        }
      ]
    },
    {
      "cell_type": "code",
      "source": [
        "df.drop(df[df['Amenity']=='bench'].index, inplace=True)\n",
        "df.drop(df[df['Amenity']=='toilets'].index, inplace=True)\n",
        "df.drop(df[df['Amenity']=='atm'].index, inplace=True)\n",
        "df.drop(df[df['Amenity']=='bar'].index, inplace=True)\n",
        "df.drop(df[df['Amenity']=='bicycle_parking'].index, inplace=True)\n",
        "df.drop(df[df['Amenity']=='waste_basket'].index, inplace=True)\n",
        "df.drop(df[df['Amenity']=='grave_yard'].index, inplace=True)\n",
        "df.drop(df[df['Amenity']=='pub'].index, inplace=True)\n",
        "df.drop(df[df['Amenity']=='telephone'].index, inplace=True)\n",
        "df.drop(df[df['Amenity']=='vending_machine'].index, inplace=True)\n",
        "df.drop(df[df['Amenity']=='animal shelter'].index, inplace=True)\n",
        "df.drop(df[df['Amenity']=='bicycle_repair_station'].index, inplace=True)\n",
        "df.drop(df[df['Amenity']=='charging_station'].index, inplace=True)\n",
        "df.drop(df[df['Amenity']=='dentist'].index, inplace=True)\n",
        "df.drop(df[df['Amenity']=='clock'].index, inplace=True)\n",
        "df.drop(df[df['Amenity']=='dojo'].index, inplace=True)\n",
        "df.drop(df[df['Amenity']=='fountain'].index, inplace=True)\n",
        "df.drop(df[df['Amenity']=='nightclub'].index, inplace=True)\n",
        "df.drop(df[df['Amenity']=='post_box'].index, inplace=True)\n",
        "df.drop(df[df['Amenity']=='pub'].index, inplace=True)\n",
        "df.drop(df[df['Amenity']=='public_bookcase'].index, inplace=True)\n",
        "df.drop(df[df['Amenity']=='recycling'].index, inplace=True)\n",
        "df.drop(df[df['Amenity']=='telephone'].index, inplace=True)\n",
        "df.drop(df[df['Amenity']=='weighbridge'].index, inplace=True)\n",
        "df.drop(df[df['Amenity']=='telephone'].index, inplace=True)\n",
        "df.drop(df[df['Amenity']=='drinking_water'].index, inplace=True)\n",
        "df.drop(df[df['Amenity']=='drinking_school'].index, inplace=True)\n",
        "df.drop(df[df['Amenity']=='reception_desk'].index, inplace=True)"
      ],
      "metadata": {
        "id": "saK5uGoRkGgf"
      },
      "execution_count": 70,
      "outputs": []
    },
    {
      "cell_type": "code",
      "source": [
        "df"
      ],
      "metadata": {
        "colab": {
          "base_uri": "https://localhost:8080/",
          "height": 424
        },
        "id": "zZvbq1LElIOt",
        "outputId": "94ae855e-21d6-462e-b815-8f9e815facc8"
      },
      "execution_count": 71,
      "outputs": [
        {
          "output_type": "execute_result",
          "data": {
            "text/plain": [
              "      objectid         Amenity   latitude  longitude\n",
              "0            1            cafe -90.307708  38.637362\n",
              "2            3      restaurant -90.307897  38.637619\n",
              "3            4       ice_cream -90.307877  38.637749\n",
              "5            6            cafe -90.307686  38.638642\n",
              "6            7      restaurant -90.306299  38.633093\n",
              "...        ...             ...        ...        ...\n",
              "1649      1650  driving_school -90.260683  38.643392\n",
              "1653      1654       fast_food -90.233894  38.632763\n",
              "1654      1655      restaurant -90.275637  38.728292\n",
              "1657      1658       fast_food -90.227670  38.647206\n",
              "1658      1659      restaurant -90.231597  38.639264\n",
              "\n",
              "[375 rows x 4 columns]"
            ],
            "text/html": [
              "\n",
              "  <div id=\"df-58c1a0b4-5d45-412d-969d-5cbdd2394dbc\">\n",
              "    <div class=\"colab-df-container\">\n",
              "      <div>\n",
              "<style scoped>\n",
              "    .dataframe tbody tr th:only-of-type {\n",
              "        vertical-align: middle;\n",
              "    }\n",
              "\n",
              "    .dataframe tbody tr th {\n",
              "        vertical-align: top;\n",
              "    }\n",
              "\n",
              "    .dataframe thead th {\n",
              "        text-align: right;\n",
              "    }\n",
              "</style>\n",
              "<table border=\"1\" class=\"dataframe\">\n",
              "  <thead>\n",
              "    <tr style=\"text-align: right;\">\n",
              "      <th></th>\n",
              "      <th>objectid</th>\n",
              "      <th>Amenity</th>\n",
              "      <th>latitude</th>\n",
              "      <th>longitude</th>\n",
              "    </tr>\n",
              "  </thead>\n",
              "  <tbody>\n",
              "    <tr>\n",
              "      <th>0</th>\n",
              "      <td>1</td>\n",
              "      <td>cafe</td>\n",
              "      <td>-90.307708</td>\n",
              "      <td>38.637362</td>\n",
              "    </tr>\n",
              "    <tr>\n",
              "      <th>2</th>\n",
              "      <td>3</td>\n",
              "      <td>restaurant</td>\n",
              "      <td>-90.307897</td>\n",
              "      <td>38.637619</td>\n",
              "    </tr>\n",
              "    <tr>\n",
              "      <th>3</th>\n",
              "      <td>4</td>\n",
              "      <td>ice_cream</td>\n",
              "      <td>-90.307877</td>\n",
              "      <td>38.637749</td>\n",
              "    </tr>\n",
              "    <tr>\n",
              "      <th>5</th>\n",
              "      <td>6</td>\n",
              "      <td>cafe</td>\n",
              "      <td>-90.307686</td>\n",
              "      <td>38.638642</td>\n",
              "    </tr>\n",
              "    <tr>\n",
              "      <th>6</th>\n",
              "      <td>7</td>\n",
              "      <td>restaurant</td>\n",
              "      <td>-90.306299</td>\n",
              "      <td>38.633093</td>\n",
              "    </tr>\n",
              "    <tr>\n",
              "      <th>...</th>\n",
              "      <td>...</td>\n",
              "      <td>...</td>\n",
              "      <td>...</td>\n",
              "      <td>...</td>\n",
              "    </tr>\n",
              "    <tr>\n",
              "      <th>1649</th>\n",
              "      <td>1650</td>\n",
              "      <td>driving_school</td>\n",
              "      <td>-90.260683</td>\n",
              "      <td>38.643392</td>\n",
              "    </tr>\n",
              "    <tr>\n",
              "      <th>1653</th>\n",
              "      <td>1654</td>\n",
              "      <td>fast_food</td>\n",
              "      <td>-90.233894</td>\n",
              "      <td>38.632763</td>\n",
              "    </tr>\n",
              "    <tr>\n",
              "      <th>1654</th>\n",
              "      <td>1655</td>\n",
              "      <td>restaurant</td>\n",
              "      <td>-90.275637</td>\n",
              "      <td>38.728292</td>\n",
              "    </tr>\n",
              "    <tr>\n",
              "      <th>1657</th>\n",
              "      <td>1658</td>\n",
              "      <td>fast_food</td>\n",
              "      <td>-90.227670</td>\n",
              "      <td>38.647206</td>\n",
              "    </tr>\n",
              "    <tr>\n",
              "      <th>1658</th>\n",
              "      <td>1659</td>\n",
              "      <td>restaurant</td>\n",
              "      <td>-90.231597</td>\n",
              "      <td>38.639264</td>\n",
              "    </tr>\n",
              "  </tbody>\n",
              "</table>\n",
              "<p>375 rows × 4 columns</p>\n",
              "</div>\n",
              "      <button class=\"colab-df-convert\" onclick=\"convertToInteractive('df-58c1a0b4-5d45-412d-969d-5cbdd2394dbc')\"\n",
              "              title=\"Convert this dataframe to an interactive table.\"\n",
              "              style=\"display:none;\">\n",
              "        \n",
              "  <svg xmlns=\"http://www.w3.org/2000/svg\" height=\"24px\"viewBox=\"0 0 24 24\"\n",
              "       width=\"24px\">\n",
              "    <path d=\"M0 0h24v24H0V0z\" fill=\"none\"/>\n",
              "    <path d=\"M18.56 5.44l.94 2.06.94-2.06 2.06-.94-2.06-.94-.94-2.06-.94 2.06-2.06.94zm-11 1L8.5 8.5l.94-2.06 2.06-.94-2.06-.94L8.5 2.5l-.94 2.06-2.06.94zm10 10l.94 2.06.94-2.06 2.06-.94-2.06-.94-.94-2.06-.94 2.06-2.06.94z\"/><path d=\"M17.41 7.96l-1.37-1.37c-.4-.4-.92-.59-1.43-.59-.52 0-1.04.2-1.43.59L10.3 9.45l-7.72 7.72c-.78.78-.78 2.05 0 2.83L4 21.41c.39.39.9.59 1.41.59.51 0 1.02-.2 1.41-.59l7.78-7.78 2.81-2.81c.8-.78.8-2.07 0-2.86zM5.41 20L4 18.59l7.72-7.72 1.47 1.35L5.41 20z\"/>\n",
              "  </svg>\n",
              "      </button>\n",
              "      \n",
              "  <style>\n",
              "    .colab-df-container {\n",
              "      display:flex;\n",
              "      flex-wrap:wrap;\n",
              "      gap: 12px;\n",
              "    }\n",
              "\n",
              "    .colab-df-convert {\n",
              "      background-color: #E8F0FE;\n",
              "      border: none;\n",
              "      border-radius: 50%;\n",
              "      cursor: pointer;\n",
              "      display: none;\n",
              "      fill: #1967D2;\n",
              "      height: 32px;\n",
              "      padding: 0 0 0 0;\n",
              "      width: 32px;\n",
              "    }\n",
              "\n",
              "    .colab-df-convert:hover {\n",
              "      background-color: #E2EBFA;\n",
              "      box-shadow: 0px 1px 2px rgba(60, 64, 67, 0.3), 0px 1px 3px 1px rgba(60, 64, 67, 0.15);\n",
              "      fill: #174EA6;\n",
              "    }\n",
              "\n",
              "    [theme=dark] .colab-df-convert {\n",
              "      background-color: #3B4455;\n",
              "      fill: #D2E3FC;\n",
              "    }\n",
              "\n",
              "    [theme=dark] .colab-df-convert:hover {\n",
              "      background-color: #434B5C;\n",
              "      box-shadow: 0px 1px 3px 1px rgba(0, 0, 0, 0.15);\n",
              "      filter: drop-shadow(0px 1px 2px rgba(0, 0, 0, 0.3));\n",
              "      fill: #FFFFFF;\n",
              "    }\n",
              "  </style>\n",
              "\n",
              "      <script>\n",
              "        const buttonEl =\n",
              "          document.querySelector('#df-58c1a0b4-5d45-412d-969d-5cbdd2394dbc button.colab-df-convert');\n",
              "        buttonEl.style.display =\n",
              "          google.colab.kernel.accessAllowed ? 'block' : 'none';\n",
              "\n",
              "        async function convertToInteractive(key) {\n",
              "          const element = document.querySelector('#df-58c1a0b4-5d45-412d-969d-5cbdd2394dbc');\n",
              "          const dataTable =\n",
              "            await google.colab.kernel.invokeFunction('convertToInteractive',\n",
              "                                                     [key], {});\n",
              "          if (!dataTable) return;\n",
              "\n",
              "          const docLinkHtml = 'Like what you see? Visit the ' +\n",
              "            '<a target=\"_blank\" href=https://colab.research.google.com/notebooks/data_table.ipynb>data table notebook</a>'\n",
              "            + ' to learn more about interactive tables.';\n",
              "          element.innerHTML = '';\n",
              "          dataTable['output_type'] = 'display_data';\n",
              "          await google.colab.output.renderOutput(dataTable, element);\n",
              "          const docLink = document.createElement('div');\n",
              "          docLink.innerHTML = docLinkHtml;\n",
              "          element.appendChild(docLink);\n",
              "        }\n",
              "      </script>\n",
              "    </div>\n",
              "  </div>\n",
              "  "
            ]
          },
          "metadata": {},
          "execution_count": 71
        }
      ]
    },
    {
      "cell_type": "markdown",
      "source": [
        "# Food Dining"
      ],
      "metadata": {
        "id": "LCVTNgU0OdQT"
      }
    },
    {
      "cell_type": "code",
      "source": [
        "df['Amenity'] = df['Amenity'].replace(['cafe'],['FoodDining'])"
      ],
      "metadata": {
        "id": "FgKrQ6qaKRI3"
      },
      "execution_count": 72,
      "outputs": []
    },
    {
      "cell_type": "code",
      "source": [
        "df['Amenity'] = df['Amenity'].replace(['fast_food'],['FoodDining'])"
      ],
      "metadata": {
        "id": "ifRe1wuaOKkA"
      },
      "execution_count": 73,
      "outputs": []
    },
    {
      "cell_type": "code",
      "source": [
        "df['Amenity'] = df['Amenity'].replace(['ice_cream'],['FoodDining'])"
      ],
      "metadata": {
        "id": "uFA7q72ZOPhW"
      },
      "execution_count": 74,
      "outputs": []
    },
    {
      "cell_type": "code",
      "source": [
        "df['Amenity'] = df['Amenity'].replace(['pub'],['FoodDining'])"
      ],
      "metadata": {
        "id": "5dZEywzWOWL2"
      },
      "execution_count": 75,
      "outputs": []
    },
    {
      "cell_type": "code",
      "source": [
        "df['Amenity'] = df['Amenity'].replace(['restaurant'],['FoodDining'])"
      ],
      "metadata": {
        "id": "FIreyLkSOZUs"
      },
      "execution_count": 76,
      "outputs": []
    },
    {
      "cell_type": "markdown",
      "source": [
        "# Entertainment Leisure"
      ],
      "metadata": {
        "id": "MXCzCGfNOhx-"
      }
    },
    {
      "cell_type": "code",
      "source": [
        "df['Amenity'] = df['Amenity'].replace(['arts_centre'],['EntertainmentLeisure'])"
      ],
      "metadata": {
        "id": "NEENfPoUOpNA"
      },
      "execution_count": 77,
      "outputs": []
    },
    {
      "cell_type": "code",
      "source": [
        "df['Amenity'] = df['Amenity'].replace(['Banquet_Hall'],['EntertainmentLeisure'])"
      ],
      "metadata": {
        "id": "NSQxO9SiO0-0"
      },
      "execution_count": 78,
      "outputs": []
    },
    {
      "cell_type": "code",
      "source": [
        "df['Amenity'] = df['Amenity'].replace(['cinema'],['EntertainmentLeisure'])"
      ],
      "metadata": {
        "id": "dNKXwKdiO1Z7"
      },
      "execution_count": 79,
      "outputs": []
    },
    {
      "cell_type": "code",
      "source": [
        "df['Amenity'] = df['Amenity'].replace(['community_centre'],['EntertainmentLeisure'])"
      ],
      "metadata": {
        "id": "-kaM-hOtO1xD"
      },
      "execution_count": 80,
      "outputs": []
    },
    {
      "cell_type": "code",
      "source": [
        "df['Amenity'] = df['Amenity'].replace(['events_venue'],['EntertainmentLeisure'])"
      ],
      "metadata": {
        "id": "vRJWrsqAO2I5"
      },
      "execution_count": 81,
      "outputs": []
    },
    {
      "cell_type": "code",
      "source": [
        "df['Amenity'] = df['Amenity'].replace(['theatre'],['EntertainmentLeisure'])"
      ],
      "metadata": {
        "id": "lgsksy2JO2az"
      },
      "execution_count": 82,
      "outputs": []
    },
    {
      "cell_type": "markdown",
      "source": [
        "# Parking"
      ],
      "metadata": {
        "id": "R7F_o6UaPWfh"
      }
    },
    {
      "cell_type": "code",
      "source": [
        "df['Amenity'] = df['Amenity'].replace(['parking'],['Parking'])"
      ],
      "metadata": {
        "id": "mp7TTq8nPY6y"
      },
      "execution_count": 83,
      "outputs": []
    },
    {
      "cell_type": "code",
      "source": [
        "df['Amenity'] = df['Amenity'].replace(['parking_entrance'],['Parking'])"
      ],
      "metadata": {
        "id": "4Szc163hPl84"
      },
      "execution_count": 84,
      "outputs": []
    },
    {
      "cell_type": "markdown",
      "source": [
        ""
      ],
      "metadata": {
        "id": "FOfhHcITPpi7"
      }
    },
    {
      "cell_type": "markdown",
      "source": [
        "# Health and Safety"
      ],
      "metadata": {
        "id": "wTczcSWAPvyA"
      }
    },
    {
      "cell_type": "code",
      "source": [
        "df['Amenity'] = df['Amenity'].replace(['clinic'],['HealthSafety'])\n",
        "df['Amenity'] = df['Amenity'].replace(['doctors'],['HealthSafety'])\n",
        "df['Amenity'] = df['Amenity'].replace(['fire_station'],['HealthSafety'])\n",
        "df['Amenity'] = df['Amenity'].replace(['hospital'],['HealthSafety'])\n",
        "df['Amenity'] = df['Amenity'].replace(['pharmacy'],['HealthSafety'])\n",
        "df['Amenity'] = df['Amenity'].replace(['police'],['HealthSafety'])\n",
        "df['Amenity'] = df['Amenity'].replace(['social_facility'],['HealthSafety'])"
      ],
      "metadata": {
        "id": "wdLmrJBgPzYz"
      },
      "execution_count": 85,
      "outputs": []
    },
    {
      "cell_type": "code",
      "source": [
        "df"
      ],
      "metadata": {
        "colab": {
          "base_uri": "https://localhost:8080/",
          "height": 424
        },
        "id": "s05POfNEN_zU",
        "outputId": "91eee6c9-7df7-4110-9906-2de1e9f03941"
      },
      "execution_count": 86,
      "outputs": [
        {
          "output_type": "execute_result",
          "data": {
            "text/plain": [
              "      objectid         Amenity   latitude  longitude\n",
              "0            1      FoodDining -90.307708  38.637362\n",
              "2            3      FoodDining -90.307897  38.637619\n",
              "3            4      FoodDining -90.307877  38.637749\n",
              "5            6      FoodDining -90.307686  38.638642\n",
              "6            7      FoodDining -90.306299  38.633093\n",
              "...        ...             ...        ...        ...\n",
              "1649      1650  driving_school -90.260683  38.643392\n",
              "1653      1654      FoodDining -90.233894  38.632763\n",
              "1654      1655      FoodDining -90.275637  38.728292\n",
              "1657      1658      FoodDining -90.227670  38.647206\n",
              "1658      1659      FoodDining -90.231597  38.639264\n",
              "\n",
              "[375 rows x 4 columns]"
            ],
            "text/html": [
              "\n",
              "  <div id=\"df-3e83d8b9-d660-48eb-90f1-c9097792aea9\">\n",
              "    <div class=\"colab-df-container\">\n",
              "      <div>\n",
              "<style scoped>\n",
              "    .dataframe tbody tr th:only-of-type {\n",
              "        vertical-align: middle;\n",
              "    }\n",
              "\n",
              "    .dataframe tbody tr th {\n",
              "        vertical-align: top;\n",
              "    }\n",
              "\n",
              "    .dataframe thead th {\n",
              "        text-align: right;\n",
              "    }\n",
              "</style>\n",
              "<table border=\"1\" class=\"dataframe\">\n",
              "  <thead>\n",
              "    <tr style=\"text-align: right;\">\n",
              "      <th></th>\n",
              "      <th>objectid</th>\n",
              "      <th>Amenity</th>\n",
              "      <th>latitude</th>\n",
              "      <th>longitude</th>\n",
              "    </tr>\n",
              "  </thead>\n",
              "  <tbody>\n",
              "    <tr>\n",
              "      <th>0</th>\n",
              "      <td>1</td>\n",
              "      <td>FoodDining</td>\n",
              "      <td>-90.307708</td>\n",
              "      <td>38.637362</td>\n",
              "    </tr>\n",
              "    <tr>\n",
              "      <th>2</th>\n",
              "      <td>3</td>\n",
              "      <td>FoodDining</td>\n",
              "      <td>-90.307897</td>\n",
              "      <td>38.637619</td>\n",
              "    </tr>\n",
              "    <tr>\n",
              "      <th>3</th>\n",
              "      <td>4</td>\n",
              "      <td>FoodDining</td>\n",
              "      <td>-90.307877</td>\n",
              "      <td>38.637749</td>\n",
              "    </tr>\n",
              "    <tr>\n",
              "      <th>5</th>\n",
              "      <td>6</td>\n",
              "      <td>FoodDining</td>\n",
              "      <td>-90.307686</td>\n",
              "      <td>38.638642</td>\n",
              "    </tr>\n",
              "    <tr>\n",
              "      <th>6</th>\n",
              "      <td>7</td>\n",
              "      <td>FoodDining</td>\n",
              "      <td>-90.306299</td>\n",
              "      <td>38.633093</td>\n",
              "    </tr>\n",
              "    <tr>\n",
              "      <th>...</th>\n",
              "      <td>...</td>\n",
              "      <td>...</td>\n",
              "      <td>...</td>\n",
              "      <td>...</td>\n",
              "    </tr>\n",
              "    <tr>\n",
              "      <th>1649</th>\n",
              "      <td>1650</td>\n",
              "      <td>driving_school</td>\n",
              "      <td>-90.260683</td>\n",
              "      <td>38.643392</td>\n",
              "    </tr>\n",
              "    <tr>\n",
              "      <th>1653</th>\n",
              "      <td>1654</td>\n",
              "      <td>FoodDining</td>\n",
              "      <td>-90.233894</td>\n",
              "      <td>38.632763</td>\n",
              "    </tr>\n",
              "    <tr>\n",
              "      <th>1654</th>\n",
              "      <td>1655</td>\n",
              "      <td>FoodDining</td>\n",
              "      <td>-90.275637</td>\n",
              "      <td>38.728292</td>\n",
              "    </tr>\n",
              "    <tr>\n",
              "      <th>1657</th>\n",
              "      <td>1658</td>\n",
              "      <td>FoodDining</td>\n",
              "      <td>-90.227670</td>\n",
              "      <td>38.647206</td>\n",
              "    </tr>\n",
              "    <tr>\n",
              "      <th>1658</th>\n",
              "      <td>1659</td>\n",
              "      <td>FoodDining</td>\n",
              "      <td>-90.231597</td>\n",
              "      <td>38.639264</td>\n",
              "    </tr>\n",
              "  </tbody>\n",
              "</table>\n",
              "<p>375 rows × 4 columns</p>\n",
              "</div>\n",
              "      <button class=\"colab-df-convert\" onclick=\"convertToInteractive('df-3e83d8b9-d660-48eb-90f1-c9097792aea9')\"\n",
              "              title=\"Convert this dataframe to an interactive table.\"\n",
              "              style=\"display:none;\">\n",
              "        \n",
              "  <svg xmlns=\"http://www.w3.org/2000/svg\" height=\"24px\"viewBox=\"0 0 24 24\"\n",
              "       width=\"24px\">\n",
              "    <path d=\"M0 0h24v24H0V0z\" fill=\"none\"/>\n",
              "    <path d=\"M18.56 5.44l.94 2.06.94-2.06 2.06-.94-2.06-.94-.94-2.06-.94 2.06-2.06.94zm-11 1L8.5 8.5l.94-2.06 2.06-.94-2.06-.94L8.5 2.5l-.94 2.06-2.06.94zm10 10l.94 2.06.94-2.06 2.06-.94-2.06-.94-.94-2.06-.94 2.06-2.06.94z\"/><path d=\"M17.41 7.96l-1.37-1.37c-.4-.4-.92-.59-1.43-.59-.52 0-1.04.2-1.43.59L10.3 9.45l-7.72 7.72c-.78.78-.78 2.05 0 2.83L4 21.41c.39.39.9.59 1.41.59.51 0 1.02-.2 1.41-.59l7.78-7.78 2.81-2.81c.8-.78.8-2.07 0-2.86zM5.41 20L4 18.59l7.72-7.72 1.47 1.35L5.41 20z\"/>\n",
              "  </svg>\n",
              "      </button>\n",
              "      \n",
              "  <style>\n",
              "    .colab-df-container {\n",
              "      display:flex;\n",
              "      flex-wrap:wrap;\n",
              "      gap: 12px;\n",
              "    }\n",
              "\n",
              "    .colab-df-convert {\n",
              "      background-color: #E8F0FE;\n",
              "      border: none;\n",
              "      border-radius: 50%;\n",
              "      cursor: pointer;\n",
              "      display: none;\n",
              "      fill: #1967D2;\n",
              "      height: 32px;\n",
              "      padding: 0 0 0 0;\n",
              "      width: 32px;\n",
              "    }\n",
              "\n",
              "    .colab-df-convert:hover {\n",
              "      background-color: #E2EBFA;\n",
              "      box-shadow: 0px 1px 2px rgba(60, 64, 67, 0.3), 0px 1px 3px 1px rgba(60, 64, 67, 0.15);\n",
              "      fill: #174EA6;\n",
              "    }\n",
              "\n",
              "    [theme=dark] .colab-df-convert {\n",
              "      background-color: #3B4455;\n",
              "      fill: #D2E3FC;\n",
              "    }\n",
              "\n",
              "    [theme=dark] .colab-df-convert:hover {\n",
              "      background-color: #434B5C;\n",
              "      box-shadow: 0px 1px 3px 1px rgba(0, 0, 0, 0.15);\n",
              "      filter: drop-shadow(0px 1px 2px rgba(0, 0, 0, 0.3));\n",
              "      fill: #FFFFFF;\n",
              "    }\n",
              "  </style>\n",
              "\n",
              "      <script>\n",
              "        const buttonEl =\n",
              "          document.querySelector('#df-3e83d8b9-d660-48eb-90f1-c9097792aea9 button.colab-df-convert');\n",
              "        buttonEl.style.display =\n",
              "          google.colab.kernel.accessAllowed ? 'block' : 'none';\n",
              "\n",
              "        async function convertToInteractive(key) {\n",
              "          const element = document.querySelector('#df-3e83d8b9-d660-48eb-90f1-c9097792aea9');\n",
              "          const dataTable =\n",
              "            await google.colab.kernel.invokeFunction('convertToInteractive',\n",
              "                                                     [key], {});\n",
              "          if (!dataTable) return;\n",
              "\n",
              "          const docLinkHtml = 'Like what you see? Visit the ' +\n",
              "            '<a target=\"_blank\" href=https://colab.research.google.com/notebooks/data_table.ipynb>data table notebook</a>'\n",
              "            + ' to learn more about interactive tables.';\n",
              "          element.innerHTML = '';\n",
              "          dataTable['output_type'] = 'display_data';\n",
              "          await google.colab.output.renderOutput(dataTable, element);\n",
              "          const docLink = document.createElement('div');\n",
              "          docLink.innerHTML = docLinkHtml;\n",
              "          element.appendChild(docLink);\n",
              "        }\n",
              "      </script>\n",
              "    </div>\n",
              "  </div>\n",
              "  "
            ]
          },
          "metadata": {},
          "execution_count": 86
        }
      ]
    },
    {
      "cell_type": "code",
      "source": [
        "from google.colab import files"
      ],
      "metadata": {
        "id": "MpAjQ2L0qdcq"
      },
      "execution_count": 87,
      "outputs": []
    },
    {
      "cell_type": "code",
      "source": [
        "df.to_csv('StLouisAmenitiesCleaned.csv', encoding = 'utf-8-sig')\n",
        "files.download('StLouisAmenitiesCleaned.csv')"
      ],
      "metadata": {
        "colab": {
          "base_uri": "https://localhost:8080/",
          "height": 17
        },
        "id": "VHuXA_DYqqjh",
        "outputId": "0390978e-b828-449f-b409-76544ddeaa88"
      },
      "execution_count": 88,
      "outputs": [
        {
          "output_type": "display_data",
          "data": {
            "text/plain": [
              "<IPython.core.display.Javascript object>"
            ],
            "application/javascript": [
              "\n",
              "    async function download(id, filename, size) {\n",
              "      if (!google.colab.kernel.accessAllowed) {\n",
              "        return;\n",
              "      }\n",
              "      const div = document.createElement('div');\n",
              "      const label = document.createElement('label');\n",
              "      label.textContent = `Downloading \"${filename}\": `;\n",
              "      div.appendChild(label);\n",
              "      const progress = document.createElement('progress');\n",
              "      progress.max = size;\n",
              "      div.appendChild(progress);\n",
              "      document.body.appendChild(div);\n",
              "\n",
              "      const buffers = [];\n",
              "      let downloaded = 0;\n",
              "\n",
              "      const channel = await google.colab.kernel.comms.open(id);\n",
              "      // Send a message to notify the kernel that we're ready.\n",
              "      channel.send({})\n",
              "\n",
              "      for await (const message of channel.messages) {\n",
              "        // Send a message to notify the kernel that we're ready.\n",
              "        channel.send({})\n",
              "        if (message.buffers) {\n",
              "          for (const buffer of message.buffers) {\n",
              "            buffers.push(buffer);\n",
              "            downloaded += buffer.byteLength;\n",
              "            progress.value = downloaded;\n",
              "          }\n",
              "        }\n",
              "      }\n",
              "      const blob = new Blob(buffers, {type: 'application/binary'});\n",
              "      const a = document.createElement('a');\n",
              "      a.href = window.URL.createObjectURL(blob);\n",
              "      a.download = filename;\n",
              "      div.appendChild(a);\n",
              "      a.click();\n",
              "      div.remove();\n",
              "    }\n",
              "  "
            ]
          },
          "metadata": {}
        },
        {
          "output_type": "display_data",
          "data": {
            "text/plain": [
              "<IPython.core.display.Javascript object>"
            ],
            "application/javascript": [
              "download(\"download_036de70d-9863-48dd-9d82-d09d4b53083f\", \"StLouisAmenitiesCleaned.csv\", 16083)"
            ]
          },
          "metadata": {}
        }
      ]
    }
  ]
}