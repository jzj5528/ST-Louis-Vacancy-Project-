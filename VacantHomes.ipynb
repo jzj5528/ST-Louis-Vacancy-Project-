{
  "nbformat": 4,
  "nbformat_minor": 0,
  "metadata": {
    "colab": {
      "name": "VacantHomes.ipynb",
      "provenance": [],
      "authorship_tag": "ABX9TyMoAtGFKYebYHb1YXHNbyBp",
      "include_colab_link": true
    },
    "kernelspec": {
      "name": "python3",
      "display_name": "Python 3"
    },
    "language_info": {
      "name": "python"
    }
  },
  "cells": [
    {
      "cell_type": "markdown",
      "metadata": {
        "id": "view-in-github",
        "colab_type": "text"
      },
      "source": [
        "<a href=\"https://colab.research.google.com/github/jzj5528/ST-Louis-Vacancy-Project-/blob/main/VacantHomes.ipynb\" target=\"_parent\"><img src=\"https://colab.research.google.com/assets/colab-badge.svg\" alt=\"Open In Colab\"/></a>"
      ]
    },
    {
      "cell_type": "code",
      "execution_count": 1,
      "metadata": {
        "id": "KlewJCUTwJ8E"
      },
      "outputs": [],
      "source": [
        "import numpy as np \n",
        "import pandas as pd \n",
        "import folium\n",
        "import matplotlib.pyplot as plt\n",
        "import seaborn as sns\n",
        "# magic word for producing visualizations in notebook\n",
        "%matplotlib inline"
      ]
    },
    {
      "cell_type": "code",
      "source": [
        "from google.colab import drive\n",
        "drive.mount('/content/gdrive')"
      ],
      "metadata": {
        "colab": {
          "base_uri": "https://localhost:8080/"
        },
        "id": "V7UH__vNzEvU",
        "outputId": "b77075f2-cf34-482c-f510-6bbb6f00adf0"
      },
      "execution_count": 2,
      "outputs": [
        {
          "output_type": "stream",
          "name": "stdout",
          "text": [
            "Mounted at /content/gdrive\n"
          ]
        }
      ]
    },
    {
      "cell_type": "code",
      "source": [
        "df = pd.read_csv('/content/gdrive/My Drive/BoozAllenHamilton/AllVacantLotsData.csv')"
      ],
      "metadata": {
        "id": "ha9F6cTLz4MU"
      },
      "execution_count": 4,
      "outputs": []
    },
    {
      "cell_type": "code",
      "source": [
        "df.head()"
      ],
      "metadata": {
        "colab": {
          "base_uri": "https://localhost:8080/",
          "height": 404
        },
        "id": "utVtJi1h7Biu",
        "outputId": "edcd5f96-d853-480a-8aff-1f68df1bfd78"
      },
      "execution_count": 9,
      "outputs": [
        {
          "output_type": "execute_result",
          "data": {
            "text/plain": [
              "        Handle   \"StAddrNum\"   StNameFull    Zip  Ward20  Ward10  \\\n",
              "0  10338000030           914  ST LOUIS AV  63102    14.0       2   \n",
              "1  10688000011           110      CASS AV  63102    14.0       5   \n",
              "2  10848000025          2704    S 11TH ST  63118     8.0       9   \n",
              "3  10942000120          1926  DELMAR BLVD  63103    14.0      19   \n",
              "4  11001000240          2837    DAYTON ST  63106    14.0       3   \n",
              "\n",
              "                 NhdName  CensTract20  CensTract10       Lat  ...  BurdenCat  \\\n",
              "0  Near North Riverfront       1266.0       1266.0  38.65261  ...       Zero   \n",
              "1  Near North Riverfront       1257.0       1257.0  38.63844  ...    Minimal   \n",
              "2                Soulard       1276.0       1276.0  38.60046  ...       Zero   \n",
              "3          Downtown West       1275.0       1275.0  38.63522  ...    Minimal   \n",
              "4         Jeff Vanderlou       1212.0       1212.0  38.64233  ...       Zero   \n",
              "\n",
              "  BoardUp  IsLRA TaxYrsDel VacRegMonths VioMajor  CSBVacancy CSBNuisance  \\\n",
              "0     NaN    NaN         0            0        0        True         NaN   \n",
              "1     NaN    NaN         0            0        0        True        True   \n",
              "2     NaN    NaN         0            0        0        True         NaN   \n",
              "3     NaN    NaN         0            0        0        True        True   \n",
              "4     NaN    NaN         0            0        0        True         NaN   \n",
              "\n",
              "   Forestry  Condemned  \n",
              "0       NaN        NaN  \n",
              "1       NaN        NaN  \n",
              "2       NaN        NaN  \n",
              "3       NaN        NaN  \n",
              "4       NaN        NaN  \n",
              "\n",
              "[5 rows x 32 columns]"
            ],
            "text/html": [
              "\n",
              "  <div id=\"df-565093d1-c797-48cd-8a35-85af0ae63a7b\">\n",
              "    <div class=\"colab-df-container\">\n",
              "      <div>\n",
              "<style scoped>\n",
              "    .dataframe tbody tr th:only-of-type {\n",
              "        vertical-align: middle;\n",
              "    }\n",
              "\n",
              "    .dataframe tbody tr th {\n",
              "        vertical-align: top;\n",
              "    }\n",
              "\n",
              "    .dataframe thead th {\n",
              "        text-align: right;\n",
              "    }\n",
              "</style>\n",
              "<table border=\"1\" class=\"dataframe\">\n",
              "  <thead>\n",
              "    <tr style=\"text-align: right;\">\n",
              "      <th></th>\n",
              "      <th>Handle</th>\n",
              "      <th>\"StAddrNum\"</th>\n",
              "      <th>StNameFull</th>\n",
              "      <th>Zip</th>\n",
              "      <th>Ward20</th>\n",
              "      <th>Ward10</th>\n",
              "      <th>NhdName</th>\n",
              "      <th>CensTract20</th>\n",
              "      <th>CensTract10</th>\n",
              "      <th>Lat</th>\n",
              "      <th>...</th>\n",
              "      <th>BurdenCat</th>\n",
              "      <th>BoardUp</th>\n",
              "      <th>IsLRA</th>\n",
              "      <th>TaxYrsDel</th>\n",
              "      <th>VacRegMonths</th>\n",
              "      <th>VioMajor</th>\n",
              "      <th>CSBVacancy</th>\n",
              "      <th>CSBNuisance</th>\n",
              "      <th>Forestry</th>\n",
              "      <th>Condemned</th>\n",
              "    </tr>\n",
              "  </thead>\n",
              "  <tbody>\n",
              "    <tr>\n",
              "      <th>0</th>\n",
              "      <td>10338000030</td>\n",
              "      <td>914</td>\n",
              "      <td>ST LOUIS AV</td>\n",
              "      <td>63102</td>\n",
              "      <td>14.0</td>\n",
              "      <td>2</td>\n",
              "      <td>Near North Riverfront</td>\n",
              "      <td>1266.0</td>\n",
              "      <td>1266.0</td>\n",
              "      <td>38.65261</td>\n",
              "      <td>...</td>\n",
              "      <td>Zero</td>\n",
              "      <td>NaN</td>\n",
              "      <td>NaN</td>\n",
              "      <td>0</td>\n",
              "      <td>0</td>\n",
              "      <td>0</td>\n",
              "      <td>True</td>\n",
              "      <td>NaN</td>\n",
              "      <td>NaN</td>\n",
              "      <td>NaN</td>\n",
              "    </tr>\n",
              "    <tr>\n",
              "      <th>1</th>\n",
              "      <td>10688000011</td>\n",
              "      <td>110</td>\n",
              "      <td>CASS AV</td>\n",
              "      <td>63102</td>\n",
              "      <td>14.0</td>\n",
              "      <td>5</td>\n",
              "      <td>Near North Riverfront</td>\n",
              "      <td>1257.0</td>\n",
              "      <td>1257.0</td>\n",
              "      <td>38.63844</td>\n",
              "      <td>...</td>\n",
              "      <td>Minimal</td>\n",
              "      <td>NaN</td>\n",
              "      <td>NaN</td>\n",
              "      <td>0</td>\n",
              "      <td>0</td>\n",
              "      <td>0</td>\n",
              "      <td>True</td>\n",
              "      <td>True</td>\n",
              "      <td>NaN</td>\n",
              "      <td>NaN</td>\n",
              "    </tr>\n",
              "    <tr>\n",
              "      <th>2</th>\n",
              "      <td>10848000025</td>\n",
              "      <td>2704</td>\n",
              "      <td>S 11TH ST</td>\n",
              "      <td>63118</td>\n",
              "      <td>8.0</td>\n",
              "      <td>9</td>\n",
              "      <td>Soulard</td>\n",
              "      <td>1276.0</td>\n",
              "      <td>1276.0</td>\n",
              "      <td>38.60046</td>\n",
              "      <td>...</td>\n",
              "      <td>Zero</td>\n",
              "      <td>NaN</td>\n",
              "      <td>NaN</td>\n",
              "      <td>0</td>\n",
              "      <td>0</td>\n",
              "      <td>0</td>\n",
              "      <td>True</td>\n",
              "      <td>NaN</td>\n",
              "      <td>NaN</td>\n",
              "      <td>NaN</td>\n",
              "    </tr>\n",
              "    <tr>\n",
              "      <th>3</th>\n",
              "      <td>10942000120</td>\n",
              "      <td>1926</td>\n",
              "      <td>DELMAR BLVD</td>\n",
              "      <td>63103</td>\n",
              "      <td>14.0</td>\n",
              "      <td>19</td>\n",
              "      <td>Downtown West</td>\n",
              "      <td>1275.0</td>\n",
              "      <td>1275.0</td>\n",
              "      <td>38.63522</td>\n",
              "      <td>...</td>\n",
              "      <td>Minimal</td>\n",
              "      <td>NaN</td>\n",
              "      <td>NaN</td>\n",
              "      <td>0</td>\n",
              "      <td>0</td>\n",
              "      <td>0</td>\n",
              "      <td>True</td>\n",
              "      <td>True</td>\n",
              "      <td>NaN</td>\n",
              "      <td>NaN</td>\n",
              "    </tr>\n",
              "    <tr>\n",
              "      <th>4</th>\n",
              "      <td>11001000240</td>\n",
              "      <td>2837</td>\n",
              "      <td>DAYTON ST</td>\n",
              "      <td>63106</td>\n",
              "      <td>14.0</td>\n",
              "      <td>3</td>\n",
              "      <td>Jeff Vanderlou</td>\n",
              "      <td>1212.0</td>\n",
              "      <td>1212.0</td>\n",
              "      <td>38.64233</td>\n",
              "      <td>...</td>\n",
              "      <td>Zero</td>\n",
              "      <td>NaN</td>\n",
              "      <td>NaN</td>\n",
              "      <td>0</td>\n",
              "      <td>0</td>\n",
              "      <td>0</td>\n",
              "      <td>True</td>\n",
              "      <td>NaN</td>\n",
              "      <td>NaN</td>\n",
              "      <td>NaN</td>\n",
              "    </tr>\n",
              "  </tbody>\n",
              "</table>\n",
              "<p>5 rows × 32 columns</p>\n",
              "</div>\n",
              "      <button class=\"colab-df-convert\" onclick=\"convertToInteractive('df-565093d1-c797-48cd-8a35-85af0ae63a7b')\"\n",
              "              title=\"Convert this dataframe to an interactive table.\"\n",
              "              style=\"display:none;\">\n",
              "        \n",
              "  <svg xmlns=\"http://www.w3.org/2000/svg\" height=\"24px\"viewBox=\"0 0 24 24\"\n",
              "       width=\"24px\">\n",
              "    <path d=\"M0 0h24v24H0V0z\" fill=\"none\"/>\n",
              "    <path d=\"M18.56 5.44l.94 2.06.94-2.06 2.06-.94-2.06-.94-.94-2.06-.94 2.06-2.06.94zm-11 1L8.5 8.5l.94-2.06 2.06-.94-2.06-.94L8.5 2.5l-.94 2.06-2.06.94zm10 10l.94 2.06.94-2.06 2.06-.94-2.06-.94-.94-2.06-.94 2.06-2.06.94z\"/><path d=\"M17.41 7.96l-1.37-1.37c-.4-.4-.92-.59-1.43-.59-.52 0-1.04.2-1.43.59L10.3 9.45l-7.72 7.72c-.78.78-.78 2.05 0 2.83L4 21.41c.39.39.9.59 1.41.59.51 0 1.02-.2 1.41-.59l7.78-7.78 2.81-2.81c.8-.78.8-2.07 0-2.86zM5.41 20L4 18.59l7.72-7.72 1.47 1.35L5.41 20z\"/>\n",
              "  </svg>\n",
              "      </button>\n",
              "      \n",
              "  <style>\n",
              "    .colab-df-container {\n",
              "      display:flex;\n",
              "      flex-wrap:wrap;\n",
              "      gap: 12px;\n",
              "    }\n",
              "\n",
              "    .colab-df-convert {\n",
              "      background-color: #E8F0FE;\n",
              "      border: none;\n",
              "      border-radius: 50%;\n",
              "      cursor: pointer;\n",
              "      display: none;\n",
              "      fill: #1967D2;\n",
              "      height: 32px;\n",
              "      padding: 0 0 0 0;\n",
              "      width: 32px;\n",
              "    }\n",
              "\n",
              "    .colab-df-convert:hover {\n",
              "      background-color: #E2EBFA;\n",
              "      box-shadow: 0px 1px 2px rgba(60, 64, 67, 0.3), 0px 1px 3px 1px rgba(60, 64, 67, 0.15);\n",
              "      fill: #174EA6;\n",
              "    }\n",
              "\n",
              "    [theme=dark] .colab-df-convert {\n",
              "      background-color: #3B4455;\n",
              "      fill: #D2E3FC;\n",
              "    }\n",
              "\n",
              "    [theme=dark] .colab-df-convert:hover {\n",
              "      background-color: #434B5C;\n",
              "      box-shadow: 0px 1px 3px 1px rgba(0, 0, 0, 0.15);\n",
              "      filter: drop-shadow(0px 1px 2px rgba(0, 0, 0, 0.3));\n",
              "      fill: #FFFFFF;\n",
              "    }\n",
              "  </style>\n",
              "\n",
              "      <script>\n",
              "        const buttonEl =\n",
              "          document.querySelector('#df-565093d1-c797-48cd-8a35-85af0ae63a7b button.colab-df-convert');\n",
              "        buttonEl.style.display =\n",
              "          google.colab.kernel.accessAllowed ? 'block' : 'none';\n",
              "\n",
              "        async function convertToInteractive(key) {\n",
              "          const element = document.querySelector('#df-565093d1-c797-48cd-8a35-85af0ae63a7b');\n",
              "          const dataTable =\n",
              "            await google.colab.kernel.invokeFunction('convertToInteractive',\n",
              "                                                     [key], {});\n",
              "          if (!dataTable) return;\n",
              "\n",
              "          const docLinkHtml = 'Like what you see? Visit the ' +\n",
              "            '<a target=\"_blank\" href=https://colab.research.google.com/notebooks/data_table.ipynb>data table notebook</a>'\n",
              "            + ' to learn more about interactive tables.';\n",
              "          element.innerHTML = '';\n",
              "          dataTable['output_type'] = 'display_data';\n",
              "          await google.colab.output.renderOutput(dataTable, element);\n",
              "          const docLink = document.createElement('div');\n",
              "          docLink.innerHTML = docLinkHtml;\n",
              "          element.appendChild(docLink);\n",
              "        }\n",
              "      </script>\n",
              "    </div>\n",
              "  </div>\n",
              "  "
            ]
          },
          "metadata": {},
          "execution_count": 9
        }
      ]
    },
    {
      "cell_type": "code",
      "source": [
        "df.dtypes"
      ],
      "metadata": {
        "colab": {
          "base_uri": "https://localhost:8080/"
        },
        "id": "iY0aECmb0Qq3",
        "outputId": "3595f937-0f04-4da9-c328-44c5c1360ddc"
      },
      "execution_count": 5,
      "outputs": [
        {
          "output_type": "execute_result",
          "data": {
            "text/plain": [
              "Handle            int64\n",
              " \"StAddrNum\"      int64\n",
              "StNameFull       object\n",
              "Zip               int64\n",
              "Ward20          float64\n",
              "Ward10            int64\n",
              "NhdName          object\n",
              "CensTract20     float64\n",
              "CensTract10     float64\n",
              "Lat             float64\n",
              "Lng             float64\n",
              "Type             object\n",
              "ParcelSqFt        int64\n",
              "OwnerName        object\n",
              "OwnerName2       object\n",
              "OwnerState       object\n",
              "OwnerZip        float64\n",
              "OwnerChange      object\n",
              "BldgAge         float64\n",
              "Vacancy           int64\n",
              "VacancyCat       object\n",
              "Burden            int64\n",
              "BurdenCat        object\n",
              "BoardUp          object\n",
              "IsLRA            object\n",
              "TaxYrsDel         int64\n",
              "VacRegMonths      int64\n",
              "VioMajor          int64\n",
              "CSBVacancy       object\n",
              "CSBNuisance      object\n",
              "Forestry         object\n",
              "Condemned        object\n",
              "dtype: object"
            ]
          },
          "metadata": {},
          "execution_count": 5
        }
      ]
    },
    {
      "cell_type": "code",
      "source": [
        "pd.value_counts(df['BurdenCat'])[:15]"
      ],
      "metadata": {
        "colab": {
          "base_uri": "https://localhost:8080/"
        },
        "id": "tgj_BuvI0f_e",
        "outputId": "c3f3f5c0-8b7a-4ffc-987c-fda33396a99b"
      },
      "execution_count": 7,
      "outputs": [
        {
          "output_type": "execute_result",
          "data": {
            "text/plain": [
              "Extremely High    5075\n",
              "High              4984\n",
              "Very High         3558\n",
              "Zero              3324\n",
              "Minimal           2585\n",
              "Very Low          2495\n",
              "Low               1356\n",
              "Medium Low         914\n",
              "Medium             711\n",
              "Medium High        596\n",
              "Somewhat High      463\n",
              "Name: BurdenCat, dtype: int64"
            ]
          },
          "metadata": {},
          "execution_count": 7
        }
      ]
    },
    {
      "cell_type": "code",
      "source": [
        "pd.value_counts(df['Type'])[:15]"
      ],
      "metadata": {
        "colab": {
          "base_uri": "https://localhost:8080/"
        },
        "id": "7Ag7VcqK62cX",
        "outputId": "79794e82-ee7b-4d48-95b7-05af32893868"
      },
      "execution_count": 8,
      "outputs": [
        {
          "output_type": "execute_result",
          "data": {
            "text/plain": [
              "Empty Lot        14714\n",
              "Single-Family     6487\n",
              "Duplex            2874\n",
              "Commercial         939\n",
              "Multi-Unit         887\n",
              "Mixed-Use          156\n",
              "Other                4\n",
              "Name: Type, dtype: int64"
            ]
          },
          "metadata": {},
          "execution_count": 8
        }
      ]
    },
    {
      "cell_type": "code",
      "source": [
        "pd.value_counts(df['VacancyCat'])[:15]"
      ],
      "metadata": {
        "colab": {
          "base_uri": "https://localhost:8080/"
        },
        "id": "ycn_aViB9V50",
        "outputId": "7044f65f-810a-430b-fab1-ae9da7a79f3b"
      },
      "execution_count": 10,
      "outputs": [
        {
          "output_type": "execute_result",
          "data": {
            "text/plain": [
              "Definite         14676\n",
              "Very Likely       9957\n",
              "Indeterminant     1261\n",
              "Possible           167\n",
              "Name: VacancyCat, dtype: int64"
            ]
          },
          "metadata": {},
          "execution_count": 10
        }
      ]
    },
    {
      "cell_type": "code",
      "source": [
        "pd.value_counts(df['Condemned'])[:15]\n",
        "#Only 2,014 Properties are condemned"
      ],
      "metadata": {
        "colab": {
          "base_uri": "https://localhost:8080/"
        },
        "id": "MZM4Jsr1E4YO",
        "outputId": "98054376-51a2-4295-9d78-40ad5ee11ec6"
      },
      "execution_count": 11,
      "outputs": [
        {
          "output_type": "execute_result",
          "data": {
            "text/plain": [
              "True    2014\n",
              "Name: Condemned, dtype: int64"
            ]
          },
          "metadata": {},
          "execution_count": 11
        }
      ]
    },
    {
      "cell_type": "code",
      "source": [
        "pd.value_counts(df['IsLRA'])[:15]\n",
        "#10,048 vacant properties are LRA owned"
      ],
      "metadata": {
        "colab": {
          "base_uri": "https://localhost:8080/"
        },
        "id": "Isjlu1eAYiAZ",
        "outputId": "0fb8704d-19eb-4c5a-f97c-925c67d62c93"
      },
      "execution_count": 16,
      "outputs": [
        {
          "output_type": "execute_result",
          "data": {
            "text/plain": [
              "True    10048\n",
              "Name: IsLRA, dtype: int64"
            ]
          },
          "metadata": {},
          "execution_count": 16
        }
      ]
    },
    {
      "cell_type": "code",
      "source": [
        "plt.figure(figsize = (15, 7))\n",
        "sns.countplot(y = df['VacancyCat'],order=df['VacancyCat'].value_counts().iloc[:10].index)"
      ],
      "metadata": {
        "colab": {
          "base_uri": "https://localhost:8080/",
          "height": 459
        },
        "id": "9axobeE9I8gN",
        "outputId": "924f2422-ee35-4ccc-a134-6c82bf2c8ece"
      },
      "execution_count": 12,
      "outputs": [
        {
          "output_type": "execute_result",
          "data": {
            "text/plain": [
              "<matplotlib.axes._subplots.AxesSubplot at 0x7f1467ddd290>"
            ]
          },
          "metadata": {},
          "execution_count": 12
        },
        {
          "output_type": "display_data",
          "data": {
            "text/plain": [
              "<Figure size 1080x504 with 1 Axes>"
            ],
            "image/png": "[encoded data removed]"
          },
          "metadata": {
            "needs_background": "light"
          }
        }
      ]
    },
    {
      "cell_type": "code",
      "source": [
        "stl_Vacant_Homes=folium.Map(location=[38.6, -90.2],\n",
        "                        zoom_start=13,width=1000, height=800)"
      ],
      "metadata": {
        "id": "zSXjqylPXBIN"
      },
      "execution_count": 13,
      "outputs": []
    },
    {
      "cell_type": "code",
      "source": [
        "stl_Vacant_Homes"
      ],
      "metadata": {
        "colab": {
          "base_uri": "https://localhost:8080/",
          "height": 866
        },
        "id": "DGTYpu4IXFi6",
        "outputId": "a04f6cee-5c50-444c-b4d1-e49c550df249"
      },
      "execution_count": 14,
      "outputs": [
        {
          "output_type": "execute_result",
          "data": {
            "text/plain": [
              "<folium.folium.Map at 0x7f14679410d0>"
            ],
            "text/html": [
              "<div style=\"width:100%;\"><div style=\"position:relative;width:100%;height:0;padding-bottom:60%;\"><span style=\"color:#565656\">Make this Notebook Trusted to load map: File -> Trust Notebook</span><iframe srcdoc=\"&lt;!DOCTYPE html&gt;\n",
              "&lt;head&gt;    \n",
              "    &lt;meta http-equiv=&quot;content-type&quot; content=&quot;text/html; charset=UTF-8&quot; /&gt;\n",
              "    &lt;script&gt;L_PREFER_CANVAS=false; L_NO_TOUCH=false; L_DISABLE_3D=false;&lt;/script&gt;\n",
              "    &lt;script src=&quot;https://cdn.jsdelivr.net/npm/leaflet@1.4.0/dist/leaflet.js&quot;&gt;&lt;/script&gt;\n",
              "    &lt;script src=&quot;https://code.jquery.com/jquery-1.12.4.min.js&quot;&gt;&lt;/script&gt;\n",
              "    &lt;script src=&quot;https://maxcdn.bootstrapcdn.com/bootstrap/3.2.0/js/bootstrap.min.js&quot;&gt;&lt;/script&gt;\n",
              "    &lt;script src=&quot;https://cdnjs.cloudflare.com/ajax/libs/Leaflet.awesome-markers/2.0.2/leaflet.awesome-markers.js&quot;&gt;&lt;/script&gt;\n",
              "    &lt;link rel=&quot;stylesheet&quot; href=&quot;https://cdn.jsdelivr.net/npm/leaflet@1.4.0/dist/leaflet.css&quot;/&gt;\n",
              "    &lt;link rel=&quot;stylesheet&quot; href=&quot;https://maxcdn.bootstrapcdn.com/bootstrap/3.2.0/css/bootstrap.min.css&quot;/&gt;\n",
              "    &lt;link rel=&quot;stylesheet&quot; href=&quot;https://maxcdn.bootstrapcdn.com/bootstrap/3.2.0/css/bootstrap-theme.min.css&quot;/&gt;\n",
              "    &lt;link rel=&quot;stylesheet&quot; href=&quot;https://maxcdn.bootstrapcdn.com/font-awesome/4.6.3/css/font-awesome.min.css&quot;/&gt;\n",
              "    &lt;link rel=&quot;stylesheet&quot; href=&quot;https://cdnjs.cloudflare.com/ajax/libs/Leaflet.awesome-markers/2.0.2/leaflet.awesome-markers.css&quot;/&gt;\n",
              "    &lt;link rel=&quot;stylesheet&quot; href=&quot;https://rawcdn.githack.com/python-visualization/folium/master/folium/templates/leaflet.awesome.rotate.css&quot;/&gt;\n",
              "    &lt;style&gt;html, body {width: 100%;height: 100%;margin: 0;padding: 0;}&lt;/style&gt;\n",
              "    &lt;style&gt;#map {position:absolute;top:0;bottom:0;right:0;left:0;}&lt;/style&gt;\n",
              "    \n",
              "    &lt;meta name=&quot;viewport&quot; content=&quot;width=device-width,\n",
              "        initial-scale=1.0, maximum-scale=1.0, user-scalable=no&quot; /&gt;\n",
              "    &lt;style&gt;#map_a99fc2890d8a6828d0f5b3f0370de702 {\n",
              "        position: relative;\n",
              "        width: 1000.0px;\n",
              "        height: 800.0px;\n",
              "        left: 0.0%;\n",
              "        top: 0.0%;\n",
              "        }\n",
              "    &lt;/style&gt;\n",
              "&lt;/head&gt;\n",
              "&lt;body&gt;    \n",
              "    \n",
              "    &lt;div class=&quot;folium-map&quot; id=&quot;map_a99fc2890d8a6828d0f5b3f0370de702&quot; &gt;&lt;/div&gt;\n",
              "&lt;/body&gt;\n",
              "&lt;script&gt;    \n",
              "    \n",
              "    \n",
              "        var bounds = null;\n",
              "    \n",
              "\n",
              "    var map_a99fc2890d8a6828d0f5b3f0370de702 = L.map(\n",
              "        &#x27;map_a99fc2890d8a6828d0f5b3f0370de702&#x27;, {\n",
              "        center: [38.6, -90.2],\n",
              "        zoom: 13,\n",
              "        maxBounds: bounds,\n",
              "        layers: [],\n",
              "        worldCopyJump: false,\n",
              "        crs: L.CRS.EPSG3857,\n",
              "        zoomControl: true,\n",
              "        });\n",
              "\n",
              "\n",
              "    \n",
              "    var tile_layer_d719753872851cd772703e1c744732c9 = L.tileLayer(\n",
              "        &#x27;https://{s}.tile.openstreetmap.org/{z}/{x}/{y}.png&#x27;,\n",
              "        {\n",
              "        &quot;attribution&quot;: null,\n",
              "        &quot;detectRetina&quot;: false,\n",
              "        &quot;maxNativeZoom&quot;: 18,\n",
              "        &quot;maxZoom&quot;: 18,\n",
              "        &quot;minZoom&quot;: 0,\n",
              "        &quot;noWrap&quot;: false,\n",
              "        &quot;opacity&quot;: 1,\n",
              "        &quot;subdomains&quot;: &quot;abc&quot;,\n",
              "        &quot;tms&quot;: false\n",
              "}).addTo(map_a99fc2890d8a6828d0f5b3f0370de702);\n",
              "&lt;/script&gt;\" style=\"position:absolute;width:100%;height:100%;left:0;top:0;border:none !important;\" allowfullscreen webkitallowfullscreen mozallowfullscreen></iframe></div></div>"
            ]
          },
          "metadata": {},
          "execution_count": 14
        }
      ]
    }
  ]
}